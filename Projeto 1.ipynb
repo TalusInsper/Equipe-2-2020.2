{
 "cells": [
  {
   "cell_type": "markdown",
   "metadata": {
    "heading_collapsed": true
   },
   "source": [
    "# Importações Principais"
   ]
  },
  {
   "cell_type": "code",
   "execution_count": 123,
   "metadata": {
    "hidden": true
   },
   "outputs": [],
   "source": [
    "import pandas as pd \n",
    "import numpy as np\n",
    "import seaborn as sns\n",
    "import re\n",
    "import string\n",
    "import nltk\n",
    "from string import digits\n",
    "from nltk.corpus import stopwords\n",
    "from nltk.corpus import wordnet\n",
    "from nltk.stem import WordNetLemmatizer \n",
    "from wordcloud import WordCloud\n",
    "#from sklearn.naive_bayes import MultinomialNB  Possível modelo para análise futura\n",
    "from sklearn.feature_extraction.text import TfidfVectorizer \n",
    "import matplotlib.pyplot as plt\n",
    "from sklearn.linear_model import LogisticRegression\n",
    "from sklearn.metrics import accuracy_score, f1_score, confusion_matrix, precision_recall_fscore_support"
   ]
  },
  {
   "cell_type": "markdown",
   "metadata": {
    "heading_collapsed": true
   },
   "source": [
    "# Leitura do dataset"
   ]
  },
  {
   "cell_type": "code",
   "execution_count": 7,
   "metadata": {
    "hidden": true
   },
   "outputs": [],
   "source": [
    "dados_treino = pd.read_csv('train.csv')\n",
    "dados_teste = pd.read_csv('test.csv')\n",
    "dados_label =pd.read_csv(\"test_labels.csv\")"
   ]
  },
  {
   "cell_type": "code",
   "execution_count": 97,
   "metadata": {
    "hidden": true
   },
   "outputs": [],
   "source": [
    "x_treino = dados_treino['comment_text']\n",
    "y_treino= dados_treino[['toxic','severe_toxic','obscene','threat','insult','identity_hate' ]]\n",
    "\n",
    "x_teste =  dados_teste['comment_text']\n",
    "y_teste= dados_label[['toxic','severe_toxic','obscene','threat','insult','identity_hate' ]]"
   ]
  },
  {
   "cell_type": "markdown",
   "metadata": {
    "hidden": true
   },
   "source": [
    "O código a seguir é responsável por processar todas as palavras do texto (após certo tratamento), classificá-las em substantivo, verbo, adjetivo e adverbio para que em seguida a função `Lemmatizer`consigua adequadamente transformar cada palavra em sua forma base. Essa pré classificação é importante pois um dos argumentos principais da função lemmatizer é o tipo de palavra que se deseja passar para a forma base.\n",
    "\n",
    "Apesar de ser um algoritimo que garante uma boa acurácia na hora de transformar as palavras em sua forma base, ele exige um alto poder de processamento o que acaba tornando o processo bem lento na maioria dos computadores. Dessa forma, como iteração futura pretendemos analisar o quão necessário é adoção dele em nosso código, comparando a acurácia na previsão com e sem ele."
   ]
  },
  {
   "cell_type": "markdown",
   "metadata": {
    "heading_collapsed": true
   },
   "source": [
    "# Pré-processamento"
   ]
  },
  {
   "cell_type": "code",
   "execution_count": 4,
   "metadata": {
    "hidden": true
   },
   "outputs": [],
   "source": [
    "lemmatizer = WordNetLemmatizer()\n",
    "stop = set(stopwords.words(\"english\"))\n",
    "wordnet_map = {\"N\":wordnet.NOUN, \"V\":wordnet.VERB, \"J\":wordnet.ADJ, \"R\":wordnet.ADV}\n",
    "def lemmatize_words(text):\n",
    "    pos_tagged_text = nltk.pos_tag(text)\n",
    "    return [lemmatizer.lemmatize(word, wordnet_map.get(pos[0], wordnet.NOUN)) for word, pos in pos_tagged_text]"
   ]
  },
  {
   "cell_type": "markdown",
   "metadata": {
    "hidden": true
   },
   "source": [
    "Como uma primeira análise optamos por averiguar apenas a influência de palavras no tipo de comentário no qual elas se inserem. Mais adiante, pretendemos aplicar o chamado 'feature engineering' para compreender correlações entre pontuações, letras maisculas, tamanho da sentença, dentro outros com a toxicidade do comentário."
   ]
  },
  {
   "cell_type": "code",
   "execution_count": 9,
   "metadata": {
    "code_folding": [],
    "hidden": true
   },
   "outputs": [],
   "source": [
    "def limpeza(text):\n",
    "    \n",
    "    text = text.encode('ascii', errors = 'ignore').decode() #Decodificando caracteres em ASCII\n",
    "    text = text.lower() #Apenas caracteres minúsculos\n",
    "    text = re.sub(r'http\\S+', ' ', text) #Evitando links\n",
    "    #Evitando contrações\n",
    "    text = re.sub(r'#+', ' ', text) #removendo hashtags\n",
    "    text = re.sub(r'@[A-Za-z0-9]+', ' ', text) #removendo menções\n",
    "    text = re.sub(r\"([A-Za-z]+)'s\", r\"\\1 is\", text) #substituindo 's por i\n",
    "    text = re.sub(r\"what's\", \"what is \", text) \n",
    "    text = re.sub(r\"\\'s\", \" \", text)\n",
    "    text = re.sub(r\"won't\", \"will not \", text) \n",
    "    text = re.sub(r\"\\'ve\", \" have \", text) \n",
    "    text = re.sub(r\"can't\", \"can not \", text) \n",
    "    text = re.sub(r\"n't\", \" not \", text) \n",
    "    text = re.sub(r\"isn't\", \"is not \", text) \n",
    "    text = re.sub(r\"i'm\", \"i am \", text) \n",
    "    text = re.sub(r\"\\'re\", \" are \", text) \n",
    "    text = re.sub(r\"\\'d\", \" would \", text) \n",
    "    text = re.sub(r\"\\'ll\", \" will \", text)\n",
    "    text = re.sub(r\"\\'scuse\", \" excuse \", text)\n",
    "    text = re.sub('\\W', ' ', text) #remove qualquer caracter não alfanumérico\n",
    "    text = re.sub('\\s+', ' ', text) # remove espaçamentos do tipo \\r\\n\\t\\f\\v \n",
    "    text = re.sub(r'\\d+', ' ', text) #remove digitos\n",
    "    text = text.strip(' ') #Removendo espaços do começo e fim \n",
    "    #text = lemmatize_words(text)\n",
    "    \n",
    "    return text\n"
   ]
  },
  {
   "cell_type": "markdown",
   "metadata": {
    "heading_collapsed": true
   },
   "source": [
    "# Substituindo textos do DataFrame pelos texto tratados no pré-processamento"
   ]
  },
  {
   "cell_type": "code",
   "execution_count": 10,
   "metadata": {
    "hidden": true,
    "scrolled": true
   },
   "outputs": [
    {
     "name": "stderr",
     "output_type": "stream",
     "text": [
      "C:\\Users\\Jean Silas\\Anaconda3\\lib\\site-packages\\tqdm\\std.py:648: FutureWarning: The Panel class is removed from pandas. Accessing it from the top-level namespace will also be removed in the next version\n",
      "  from pandas import Panel\n"
     ]
    },
    {
     "data": {
      "application/vnd.jupyter.widget-view+json": {
       "model_id": "f1a5d846db2a4558a14be0ba96d20e1c",
       "version_major": 2,
       "version_minor": 0
      },
      "text/plain": [
       "HBox(children=(IntProgress(value=0, description='Limpando o texto', max=159571, style=ProgressStyle(descriptio…"
      ]
     },
     "metadata": {},
     "output_type": "display_data"
    },
    {
     "name": "stdout",
     "output_type": "stream",
     "text": [
      "\n"
     ]
    }
   ],
   "source": [
    "#tqdm é a barra de progresso, últil, visto que o processo de limpeza com a lemmatização é longo\n",
    "from tqdm.notebook import tqdm\n",
    "\n",
    "tqdm.pandas(desc='Limpando o texto')\n",
    "dados_treino['comment_text'] = dados_treino['comment_text'].progress_apply(limpeza)"
   ]
  },
  {
   "cell_type": "code",
   "execution_count": 11,
   "metadata": {},
   "outputs": [
    {
     "data": {
      "application/vnd.jupyter.widget-view+json": {
       "model_id": "357fcc060eaa4dcb91b41491d60909fd",
       "version_major": 2,
       "version_minor": 0
      },
      "text/plain": [
       "HBox(children=(IntProgress(value=0, description='Limpando o texto', max=153164, style=ProgressStyle(descriptio…"
      ]
     },
     "metadata": {},
     "output_type": "display_data"
    },
    {
     "name": "stdout",
     "output_type": "stream",
     "text": [
      "\n"
     ]
    }
   ],
   "source": [
    "tqdm.pandas(desc='Limpando o texto')\n",
    "dados_teste['comment_text'] = dados_teste['comment_text'].progress_apply(limpeza)"
   ]
  },
  {
   "cell_type": "code",
   "execution_count": 12,
   "metadata": {},
   "outputs": [],
   "source": [
    "x_teste = dados_teste['comment_text']"
   ]
  },
  {
   "cell_type": "markdown",
   "metadata": {
    "heading_collapsed": true
   },
   "source": [
    "# Train Test Split"
   ]
  },
  {
   "cell_type": "markdown",
   "metadata": {
    "heading_collapsed": true,
    "hidden": true
   },
   "source": [
    "## Importações específicas"
   ]
  },
  {
   "cell_type": "code",
   "execution_count": 14,
   "metadata": {
    "hidden": true
   },
   "outputs": [],
   "source": [
    "#! pip install tensorflow\n",
    "import tensorflow as tf\n",
    "from tensorflow import keras\n",
    "from tensorflow.keras.preprocessing.text import Tokenizer\n",
    "from tensorflow.keras.preprocessing.sequence import pad_sequences"
   ]
  },
  {
   "cell_type": "markdown",
   "metadata": {
    "heading_collapsed": true,
    "hidden": true
   },
   "source": [
    "## Tokenização"
   ]
  },
  {
   "cell_type": "markdown",
   "metadata": {
    "hidden": true
   },
   "source": [
    "A **primeira** parte do processo de separação de nossos dados em treino e teste consiste na chamada Tokerização. \n",
    "A tokenização de um modo bem simples é um processo que atribui a cada palavra diferente de nosso corpus textual um índice que facilitá a manipulação delas. A palavra deixará de ser um conjunto de letras para ser simplismente um número.\n",
    "Um vídeo bem didático, do qual baseia-se essa parte do códico é o seguinte:\n",
    "\n",
    "https://www.youtube.com/watch?v=fNxaJsNG3-s&t=31s"
   ]
  },
  {
   "cell_type": "code",
   "execution_count": 15,
   "metadata": {
    "hidden": true
   },
   "outputs": [],
   "source": [
    "tokenizer = Tokenizer(oov_token=\"<OOV>\")"
   ]
  },
  {
   "cell_type": "markdown",
   "metadata": {
    "hidden": true
   },
   "source": [
    "O parâmetro `oov_token` serva basicamente para que mais adiante sejam computadas palavras que não estavam no nosso vocabulário. Elas apareceram com a key `<OOV>`. Isso garante que a sequências terão o mesmo tamanho da frase, o que facilita processos posteriores. `fit_on_text`\n"
   ]
  },
  {
   "cell_type": "code",
   "execution_count": 16,
   "metadata": {},
   "outputs": [],
   "source": [
    "x_treino = dados_treino[\"comment_text\"]"
   ]
  },
  {
   "cell_type": "code",
   "execution_count": 17,
   "metadata": {
    "hidden": true
   },
   "outputs": [],
   "source": [
    "tokenizer.fit_on_texts(x_treino)\n",
    "word_index = tokenizer.word_index"
   ]
  },
  {
   "cell_type": "markdown",
   "metadata": {
    "hidden": true
   },
   "source": [
    "O resultado é um dicionário onde as palavras são as `keys` e o indíces são os `values`\n",
    "Aqui vai um exemplo de como fica palavras e seus respesctivos indices:"
   ]
  },
  {
   "cell_type": "code",
   "execution_count": 18,
   "metadata": {
    "hidden": true
   },
   "outputs": [
    {
     "name": "stdout",
     "output_type": "stream",
     "text": [
      "asuna 56346\n",
      "asunder 60965\n",
      "asure 116079\n",
      "asurle 160302\n",
      "asus 49167\n",
      "asutralian 111946\n",
      "asutrian 152817\n",
      "aswad 76942\n",
      "aswell 8716\n",
      "aswer 93324\n"
     ]
    }
   ],
   "source": [
    "for key in sorted(word_index)[10000:10010]:\n",
    "    print (key, word_index[key])"
   ]
  },
  {
   "cell_type": "markdown",
   "metadata": {
    "heading_collapsed": true,
    "hidden": true
   },
   "source": [
    "## Sequenciando"
   ]
  },
  {
   "cell_type": "markdown",
   "metadata": {
    "hidden": true
   },
   "source": [
    "Os tweets podem ser compostos por mais de uma palavras, se cada palavra é representada por um número vamos agora criar uma sequência de números para cada tweet. O conceito de sequências pode ser melhor compreendido em :\n",
    "https://www.youtube.com/watch?v=r9QjkdSJZ2g&t=4s"
   ]
  },
  {
   "cell_type": "code",
   "execution_count": 19,
   "metadata": {
    "hidden": true
   },
   "outputs": [],
   "source": [
    "sequencias = tokenizer.texts_to_sequences(x_treino)"
   ]
  },
  {
   "cell_type": "markdown",
   "metadata": {
    "hidden": true
   },
   "source": [
    "Certamenta temos sequências de diferentes tamanhos, uma vez que as frase possuem diferentes números de palavras. Para que todas possuam o mesmo tamanho usamos o chamado paddind que acrescenta zeros as sequências para que nesse caso fiquem com o mesmo tamanho da maior delas."
   ]
  },
  {
   "cell_type": "code",
   "execution_count": 20,
   "metadata": {
    "hidden": true
   },
   "outputs": [],
   "source": [
    "X = pad_sequences(sequencias, padding='post')\n",
    "Y = y_treino.values"
   ]
  },
  {
   "cell_type": "markdown",
   "metadata": {
    "hidden": true
   },
   "source": [
    "Para lidarmos com o split de um conjunto de dados multilabel, optou-se pelo uso da biblioteca Scikit-multilearn direcionada justamente para esse tipo de caso. "
   ]
  },
  {
   "cell_type": "markdown",
   "metadata": {
    "heading_collapsed": true,
    "hidden": true
   },
   "source": [
    "## Interative_train_test_split"
   ]
  },
  {
   "cell_type": "code",
   "execution_count": 16,
   "metadata": {
    "hidden": true
   },
   "outputs": [],
   "source": [
    "#! pip install scikit-multilearn"
   ]
  },
  {
   "cell_type": "markdown",
   "metadata": {
    "hidden": true
   },
   "source": [
    "Geralmente em problemas do tipo, uma abordagem comum é a de dividir os dados em \"folds\", ou seja porções aleatórias de nossa amostra. Algumas folds viram dados de treino e o restante de teste. Entretanto essa abordagem não gera evidência suficiente para cada classe me cada fold graças ao desbalanceamento de classes presente na maioria dos problemas. Isso por sua vez gera um modelo enviesado e com limitações em suas previsões.\n",
    "\n",
    "\n",
    "De modo a solucionar essas problemáticas optamos por outra abordagem: o conceito por trás do método de `interative_train_test_spli` é o de **\"Estratificação\"** que divide amostras do dataset em subsets que mantém uma proporção aproximadamente igual de elementos de cada classe em cada fold.\n",
    "\n",
    "Lembrando que ja foi provado no artigo \"A Study of Cross-Validation and Bootstrap for Accuracy Estimation and Model Selection\" de Ron Kohavi que o método de estratificação se mostra mais estável se comparado com métodos de cross validation.\n",
    "\n",
    "Uma análise técnica e aprofundada do método pode ser encontrada no artigo 'A Network Perspective on Stratification of Multi-Label Data', por Piotr Szymański and Tomasz Kajdanowicz\n"
   ]
  },
  {
   "cell_type": "code",
   "execution_count": 17,
   "metadata": {
    "hidden": true
   },
   "outputs": [],
   "source": [
    "from skmultilearn.model_selection import iterative_train_test_split\n",
    "#Lembrando que a seed é um método de garantir que sempre que rodarmos a função, ela terá o mesmo random state e consequentemente nos dará o mesmo resultado\n",
    "np.random.seed(42)\n",
    "x_train_sp, y_train_sp, x_test_sp, y_test_sp = iterative_train_test_split(X, Y, test_size=0.2)"
   ]
  },
  {
   "cell_type": "code",
   "execution_count": null,
   "metadata": {},
   "outputs": [],
   "source": []
  },
  {
   "cell_type": "markdown",
   "metadata": {
    "heading_collapsed": true,
    "hidden": true
   },
   "source": [
    "## Verificando o split"
   ]
  },
  {
   "cell_type": "markdown",
   "metadata": {
    "hidden": true
   },
   "source": [
    "### Função de contagem de ocorrência de labels"
   ]
  },
  {
   "cell_type": "markdown",
   "metadata": {
    "hidden": true
   },
   "source": [
    "Agora, vamos verificar se de fato o split foi feito de uma forma balanceada garantindo uma proporção semelhante de cada tipo de comentario nos dados de treino e nos dados de teste.\n",
    "\n",
    "Vamos primeiro criar uma função que conta as ocorrências de cada label:"
   ]
  },
  {
   "cell_type": "code",
   "execution_count": 18,
   "metadata": {
    "hidden": true
   },
   "outputs": [],
   "source": [
    "def count_occurrences_labels(df):\n",
    "\n",
    "  CLASSES = {\n",
    "    'toxic':         0,\n",
    "    'severe_toxic':  0,\n",
    "    'obscene':       0,\n",
    "    'threat':        0,\n",
    "    'insult':        0,\n",
    "    'identity_hate': 0,\n",
    "\n",
    "  }\n",
    "\n",
    "  for vet in df.values:\n",
    "    for value, label in zip(vet, CLASSES):\n",
    "      CLASSES[label] += int(value)\n",
    "\n",
    "  return CLASSES"
   ]
  },
  {
   "cell_type": "markdown",
   "metadata": {
    "hidden": true
   },
   "source": [
    "Em seguida criamos uma lista para armazernar o nome dos nossos labels:"
   ]
  },
  {
   "cell_type": "code",
   "execution_count": 19,
   "metadata": {
    "hidden": true
   },
   "outputs": [
    {
     "data": {
      "text/plain": [
       "['toxic', 'severe_toxic', 'obscene', 'threat', 'insult', 'identity_hate']"
      ]
     },
     "execution_count": 19,
     "metadata": {},
     "output_type": "execute_result"
    }
   ],
   "source": [
    "labels = list(dados_treino.iloc[:, 2:].columns.values)\n",
    "labels"
   ]
  },
  {
   "cell_type": "markdown",
   "metadata": {
    "heading_collapsed": true,
    "hidden": true
   },
   "source": [
    "### Função para calcular proporções de labels"
   ]
  },
  {
   "cell_type": "markdown",
   "metadata": {
    "hidden": true
   },
   "source": [
    "Depois de fazer a contagem de quantas vez cada label aparece, precisamos determiar as proporções de cada um no conjunto de treino e no de teste para mais adiante verificarmos se elas são suficientemente próximas."
   ]
  },
  {
   "cell_type": "code",
   "execution_count": 20,
   "metadata": {
    "hidden": true
   },
   "outputs": [],
   "source": [
    "def calculates_labels_proportion(DICT_CLASSES, labels_names):\n",
    "\n",
    "  proportions = {}\n",
    "\n",
    "  for label in labels_names:\n",
    "    prop = DICT_CLASSES[label]/sum(DICT_CLASSES.values())\n",
    "    proportions.update({label: prop})\n",
    "    \n",
    "  df = pd.DataFrame([proportions])\n",
    "\n",
    "  return df"
   ]
  },
  {
   "cell_type": "markdown",
   "metadata": {
    "heading_collapsed": true,
    "hidden": true
   },
   "source": [
    "### Ocorrência de labels em todo o data-set:"
   ]
  },
  {
   "cell_type": "code",
   "execution_count": 21,
   "metadata": {
    "hidden": true
   },
   "outputs": [
    {
     "data": {
      "text/plain": [
       "{'toxic': 15294,\n",
       " 'severe_toxic': 1595,\n",
       " 'obscene': 8449,\n",
       " 'threat': 478,\n",
       " 'insult': 7877,\n",
       " 'identity_hate': 1405}"
      ]
     },
     "execution_count": 21,
     "metadata": {},
     "output_type": "execute_result"
    }
   ],
   "source": [
    "classif_data = count_occurrences_labels(dados_treino[labels])\n",
    "classif_data"
   ]
  },
  {
   "cell_type": "markdown",
   "metadata": {
    "heading_collapsed": true,
    "hidden": true
   },
   "source": [
    "### Ocorrência de labels no subset de treino"
   ]
  },
  {
   "cell_type": "code",
   "execution_count": 22,
   "metadata": {
    "hidden": true
   },
   "outputs": [
    {
     "data": {
      "text/plain": [
       "{'toxic': 12235,\n",
       " 'severe_toxic': 1276,\n",
       " 'obscene': 6759,\n",
       " 'threat': 382,\n",
       " 'insult': 6302,\n",
       " 'identity_hate': 1124}"
      ]
     },
     "execution_count": 22,
     "metadata": {},
     "output_type": "execute_result"
    }
   ],
   "source": [
    "classif_train = count_occurrences_labels(pd.DataFrame(y_train_sp))\n",
    "classif_train"
   ]
  },
  {
   "cell_type": "markdown",
   "metadata": {
    "heading_collapsed": true,
    "hidden": true
   },
   "source": [
    "### Ocorrência de labels no subset de teste"
   ]
  },
  {
   "cell_type": "code",
   "execution_count": 23,
   "metadata": {
    "hidden": true
   },
   "outputs": [
    {
     "data": {
      "text/plain": [
       "{'toxic': 3059,\n",
       " 'severe_toxic': 319,\n",
       " 'obscene': 1690,\n",
       " 'threat': 96,\n",
       " 'insult': 1575,\n",
       " 'identity_hate': 281}"
      ]
     },
     "execution_count": 23,
     "metadata": {},
     "output_type": "execute_result"
    }
   ],
   "source": [
    "\n",
    "classif_test = count_occurrences_labels(pd.DataFrame(y_test_sp))\n",
    "\n",
    "classif_test"
   ]
  },
  {
   "cell_type": "markdown",
   "metadata": {
    "heading_collapsed": true,
    "hidden": true
   },
   "source": [
    "### Análise final com proporções"
   ]
  },
  {
   "cell_type": "code",
   "execution_count": 24,
   "metadata": {
    "hidden": true
   },
   "outputs": [
    {
     "data": {
      "text/html": [
       "<div>\n",
       "<style scoped>\n",
       "    .dataframe tbody tr th:only-of-type {\n",
       "        vertical-align: middle;\n",
       "    }\n",
       "\n",
       "    .dataframe tbody tr th {\n",
       "        vertical-align: top;\n",
       "    }\n",
       "\n",
       "    .dataframe thead th {\n",
       "        text-align: right;\n",
       "    }\n",
       "</style>\n",
       "<table border=\"1\" class=\"dataframe\">\n",
       "  <thead>\n",
       "    <tr style=\"text-align: right;\">\n",
       "      <th></th>\n",
       "      <th>toxic</th>\n",
       "      <th>severe_toxic</th>\n",
       "      <th>obscene</th>\n",
       "      <th>threat</th>\n",
       "      <th>insult</th>\n",
       "      <th>identity_hate</th>\n",
       "    </tr>\n",
       "  </thead>\n",
       "  <tbody>\n",
       "    <tr>\n",
       "      <td>dataset</td>\n",
       "      <td>0.435751</td>\n",
       "      <td>0.045444</td>\n",
       "      <td>0.240726</td>\n",
       "      <td>0.013619</td>\n",
       "      <td>0.224429</td>\n",
       "      <td>0.040031</td>\n",
       "    </tr>\n",
       "    <tr>\n",
       "      <td>train_set</td>\n",
       "      <td>0.435750</td>\n",
       "      <td>0.045445</td>\n",
       "      <td>0.240722</td>\n",
       "      <td>0.013605</td>\n",
       "      <td>0.224446</td>\n",
       "      <td>0.040031</td>\n",
       "    </tr>\n",
       "    <tr>\n",
       "      <td>test_set</td>\n",
       "      <td>0.435755</td>\n",
       "      <td>0.045442</td>\n",
       "      <td>0.240741</td>\n",
       "      <td>0.013675</td>\n",
       "      <td>0.224359</td>\n",
       "      <td>0.040028</td>\n",
       "    </tr>\n",
       "  </tbody>\n",
       "</table>\n",
       "</div>"
      ],
      "text/plain": [
       "              toxic  severe_toxic   obscene    threat    insult  identity_hate\n",
       "dataset    0.435751      0.045444  0.240726  0.013619  0.224429       0.040031\n",
       "train_set  0.435750      0.045445  0.240722  0.013605  0.224446       0.040031\n",
       "test_set   0.435755      0.045442  0.240741  0.013675  0.224359       0.040028"
      ]
     },
     "execution_count": 24,
     "metadata": {},
     "output_type": "execute_result"
    }
   ],
   "source": [
    "prop_data = calculates_labels_proportion(classif_data, labels)\n",
    "prop_train = calculates_labels_proportion(classif_train, labels)\n",
    "prop_test = calculates_labels_proportion(classif_test, labels)\n",
    "\n",
    "result_prop = pd.concat([prop_data, prop_train, prop_test], ignore_index=True)\n",
    "result_prop.rename(index={\n",
    "    0: 'dataset', \n",
    "    1: 'train_set', \n",
    "    2: 'test_set'}, inplace=True)\n",
    "\n",
    "result_prop\n"
   ]
  },
  {
   "cell_type": "markdown",
   "metadata": {
    "heading_collapsed": true
   },
   "source": [
    "# WordCloud para vizualização das palavras mais frequentes em cada tipo de comentário após o pré-processamento"
   ]
  },
  {
   "cell_type": "code",
   "execution_count": null,
   "metadata": {
    "hidden": true
   },
   "outputs": [],
   "source": [
    "\n",
    "\n",
    "#wordcloud para comentários tóxicos\n",
    "subset=dados_treino[dados_treino.toxic==True]\n",
    "text=subset.comment_text.values\n",
    "wc= WordCloud(background_color=\"black\",max_words=100, stopwords=stop,collocations=False,width=1600, height=800)\n",
    "wc.generate(\" \".join(text))\n",
    "plt.figure(figsize = (50,50))\n",
    "plt.subplot(321)\n",
    "plt.axis(\"off\")\n",
    "plt.title(\"Palavras mais frequentes em comentários Tóxicos \", fontsize=40)\n",
    "plt.imshow(wc.recolor(colormap= 'gist_earth' , random_state=244), alpha=0.98, interpolation=\"bilinear\")\n",
    "\n",
    "#wordcloud para comentários severamente tóxicos\n",
    "plt.subplot(322)\n",
    "subset=dados_treino[dados_treino.severe_toxic==True]\n",
    "text=subset.comment_text.values\n",
    "wc= WordCloud(background_color=\"black\",max_words=100, stopwords=stop,collocations=False,width=1600, height=800)\n",
    "wc.generate(\" \".join(text))\n",
    "plt.axis(\"off\")\n",
    "plt.title(\"Palavras mais frequentes em comentários Severamente Tóxicos \", fontsize=40)\n",
    "plt.imshow(wc.recolor(colormap= 'gist_earth' , random_state=244), alpha=0.98, interpolation=\"bilinear\")\n",
    "\n",
    "#wordcloud para comentários obscenos\n",
    "plt.subplot(323)\n",
    "subset=dados_treino[dados_treino.obscene==True]\n",
    "text=subset.comment_text.values\n",
    "wc= WordCloud(background_color=\"black\",max_words=100, stopwords=stop,collocations=False,width=1600, height=800)\n",
    "wc.generate(\" \".join(text))\n",
    "plt.axis(\"off\")\n",
    "plt.title(\"Palavras mais frequentes em comentários Obscenos \", fontsize=40)\n",
    "plt.imshow(wc.recolor(colormap= 'gist_earth' , random_state=244), alpha=0.98, interpolation=\"bilinear\")\n",
    "\n",
    "#wordcloud para comentários de ameaça\n",
    "plt.subplot(324)\n",
    "subset=dados_treino[dados_treino.threat==True]\n",
    "text=subset.comment_text.values\n",
    "wc= WordCloud(background_color=\"black\",max_words=100, stopwords=stop,collocations=False,width=1600, height=800)\n",
    "wc.generate(\" \".join(text))\n",
    "plt.axis(\"off\")\n",
    "plt.title(\"Palavras mais frequentes em comentários de Ameaça \", fontsize=40)\n",
    "plt.imshow(wc.recolor(colormap= 'gist_earth' , random_state=244), alpha=0.98, interpolation=\"bilinear\")\n",
    "\n",
    "\n",
    "#wordcloud para comentários de insulto\n",
    "plt.subplot(325)\n",
    "subset=dados_treino[dados_treino.insult==True]\n",
    "text=subset.comment_text.values\n",
    "wc= WordCloud(background_color=\"black\",max_words=100, stopwords=stop,collocations=False,width=1600, height=800)\n",
    "wc.generate(\" \".join(text))\n",
    "plt.axis(\"off\")\n",
    "plt.title(\"Palavras mais frequentes em comentários de Insulto \", fontsize=40)\n",
    "plt.imshow(wc.recolor(colormap= 'gist_earth' , random_state=244), alpha=0.98, interpolation=\"bilinear\")\n",
    "\n",
    "\n",
    "\n",
    "#wordcloud para comentários de Preconceito\n",
    "plt.subplot(326)\n",
    "subset=dados_treino[dados_treino.identity_hate==True]\n",
    "text=subset.comment_text.values\n",
    "wc= WordCloud(background_color=\"black\",max_words=100, stopwords=stop,collocations=False,width=1600, height=800)\n",
    "wc.generate(\" \".join(text))\n",
    "plt.axis(\"off\")\n",
    "plt.title(\"Palavras mais frequentes em comentários de Preconceito \", fontsize=40)\n",
    "plt.imshow(wc.recolor(colormap= 'gist_earth' , random_state=244), alpha=0.98, interpolation=\"bilinear\")\n",
    "\n",
    "\n",
    "\n"
   ]
  },
  {
   "cell_type": "markdown",
   "metadata": {
    "heading_collapsed": true
   },
   "source": [
    "# Vetorizando nossos textos tratados"
   ]
  },
  {
   "cell_type": "markdown",
   "metadata": {
    "hidden": true
   },
   "source": [
    "Após um breve pesquisa, concluímos que no problema com o qual estamos lidando o método de vetorização disponível pela biblioteca Sklearn mais adequado é o `TfidfVectorizer`\n",
    "\n",
    "TF_IDF significa em tradução livre : Frequência do termo - Inverso da Frequência no Documento. Seu objetivo é definir o quão importante uma palavra é pro documento, enquanto leva em consideração sua relação com outros documentos de nosso corpus textual.\n",
    "\n",
    "A lógica por tráz da classificação desse algorítmo é a seguinte:\n",
    "Uma Palavra que aparece frequentemente em um documento possui mais relevância para esse documento, o que quer dizer que ele tem uma alta probabilidade de se tratar dessa palavra ou de algo sobre ela. Já uma palavra que aparece frequentemente em mais de um documento pode nos atrapalhar em achar o documento que desejamos no meio de vários; Por exemplo, se a palavra 'fuck' está na grande maioria dos comentários, ela acaba não sendo tão relevante na classificação desse comentário, uma palavra mais específica como 'nigger', teria um impacto maior na classificação, uma vez que ela é menos frequente e ao vermos ela temos quase que certeza absoluta que se trata de um comentário, por exemplo de preconceito.\n",
    "\n",
    "O algorítmo atribui uma certa nota a cada palavra. Essa nota aumenta com cada aparição sua no documento, entretanto diminui com cada apariçnao sua em outros documentos\n",
    "\n",
    "\n",
    "Texto inspirado em: https://towardsdatascience.com/tf-idf-explained-and-python-sklearn-implementation-b020c5e83275"
   ]
  },
  {
   "cell_type": "code",
   "execution_count": 21,
   "metadata": {
    "hidden": true
   },
   "outputs": [
    {
     "data": {
      "text/plain": [
       "0         yo bitch ja rule is more succesful then you wi...\n",
       "1                   from rfc the title is fine as it is imo\n",
       "2                            sources zawe ashton on lapland\n",
       "3         if you have a look back at the source the info...\n",
       "4                 i do not anonymously edit articles at all\n",
       "                                ...                        \n",
       "312730    and for the second time of asking when your vi...\n",
       "312731    you should be ashamed of yourself that is a ho...\n",
       "312732    spitzer umm theres no actual article for prost...\n",
       "312733    and it looks like it was actually you who put ...\n",
       "312734    and i really do not think you understand i cam...\n",
       "Name: comment_text, Length: 312735, dtype: object"
      ]
     },
     "execution_count": 21,
     "metadata": {},
     "output_type": "execute_result"
    }
   ],
   "source": [
    "#Antes de vetorizar os dados de treino e de teste, devemos criar um vocabulário universal.\n",
    "# Para isso concatenaremos os dados de treino e teste.\n",
    "x_tudo = pd.concat([x_teste, x_treino])\n",
    "x_tudo.index = range(len(x_tudo))\n",
    "cv = TfidfVectorizer(stop_words='english')\n",
    "cv.fit(x_tudo)\n",
    "x_tudo"
   ]
  },
  {
   "cell_type": "code",
   "execution_count": 22,
   "metadata": {
    "hidden": true
   },
   "outputs": [],
   "source": [
    "x_treinocv = cv.transform(x_treino)\n",
    "x_testecv = cv.transform(x_teste)"
   ]
  },
  {
   "cell_type": "code",
   "execution_count": 27,
   "metadata": {
    "hidden": true
   },
   "outputs": [],
   "source": [
    "\n",
    "#Para uma análise futura\n",
    "#model_mnvb = MultinomialNB()\n",
    "#model_mnvb.fit(x_treinocv,y_train.toxic.head(10))\n",
    "#dados.loc[dados.toxic!=0,:]"
   ]
  },
  {
   "cell_type": "markdown",
   "metadata": {
    "heading_collapsed": true
   },
   "source": [
    "# Aplicando modelo de predição junto com a acurácia obtida"
   ]
  },
  {
   "cell_type": "markdown",
   "metadata": {
    "hidden": true
   },
   "source": [
    "Para uma primeira análise estamos um método conhecido como \"Relevância Binária\", ele basicamente trata cada 'Label' ou tipo de comentário como um problema separado de classificação, ou seja, a priório não estamos analisando nenhuma correlação entre os diversos labels, que por sinal existem. Tal análise virá em iterações futuras."
   ]
  },
  {
   "cell_type": "code",
   "execution_count": 98,
   "metadata": {},
   "outputs": [],
   "source": [
    "#Aqui foi criado um novo data frame de testem já que havia a ocorrência de -1';\n",
    "# Como não sabemos se um erro ou se é intencional criamos um novo dataframe mas não alteramos o antigo;\n",
    "# a alteração feita troca os -1's por 1.\n",
    "y_teste1 = y_teste.replace(-1,1)"
   ]
  },
  {
   "cell_type": "code",
   "execution_count": 99,
   "metadata": {
    "hidden": true
   },
   "outputs": [],
   "source": [
    "#Modelo: Regressão Logística\n",
    "modelo_RL = LogisticRegression()\n",
    "rotulos = ['obscene','insult','toxic','severe_toxic','identity_hate','threat']\n",
    "resultados = dict()\n"
   ]
  },
  {
   "cell_type": "code",
   "execution_count": 117,
   "metadata": {},
   "outputs": [
    {
     "name": "stdout",
     "output_type": "stream",
     "text": [
      "... Processando obscene\n",
      "A acurácia do treino é 0.979231815304786\n",
      "A acurácia do teste é de 0.468034263926249\n",
      "... Processando insult\n",
      "A acurácia do treino é 0.9726391386906142\n",
      "A acurácia do teste é de 0.44789898409547935\n",
      "... Processando toxic\n",
      "A acurácia do treino é 0.9606444780066553\n",
      "A acurácia do teste é de 0.5045506777049438\n",
      "... Processando severe_toxic\n",
      "A acurácia do treino é 0.99123274279161\n",
      "A acurácia do teste é de 0.41986367553733256\n",
      "... Processando identity_hate\n",
      "A acurácia do treino é 0.9923168996872865\n",
      "A acurácia do teste é de 0.4169582930714789\n",
      "... Processando threat\n",
      "A acurácia do treino é 0.9972300731335895\n",
      "A acurácia do teste é de 0.41702358256509364\n"
     ]
    }
   ],
   "source": [
    "for rotulo in rotulos:\n",
    "    print('... Processando {}'.format(rotulo))\n",
    "    y = y_treino[rotulo]\n",
    "    yt = y_teste1[rotulo]\n",
    "    modelo_RL.fit(x_treinocv, y)\n",
    "    y_preve_X = modelo_RL.predict(x_treinocv)\n",
    "    y_pred = modelo_RL.predict(x_testecv)\n",
    "    resultados[rotulo] = np.array(y_pred)\n",
    "    print('A acurácia do treino é {}'.format(accuracy_score(y, y_preve_X)))\n",
    "    print(\"A acurácia do teste é de {}\".format(accuracy_score(yt,y_pred)))"
   ]
  },
  {
   "cell_type": "code",
   "execution_count": 104,
   "metadata": {},
   "outputs": [
    {
     "data": {
      "text/html": [
       "<div>\n",
       "<style scoped>\n",
       "    .dataframe tbody tr th:only-of-type {\n",
       "        vertical-align: middle;\n",
       "    }\n",
       "\n",
       "    .dataframe tbody tr th {\n",
       "        vertical-align: top;\n",
       "    }\n",
       "\n",
       "    .dataframe thead th {\n",
       "        text-align: right;\n",
       "    }\n",
       "</style>\n",
       "<table border=\"1\" class=\"dataframe\">\n",
       "  <thead>\n",
       "    <tr style=\"text-align: right;\">\n",
       "      <th></th>\n",
       "      <th>obscene</th>\n",
       "      <th>insult</th>\n",
       "      <th>toxic</th>\n",
       "      <th>severe_toxic</th>\n",
       "      <th>identity_hate</th>\n",
       "      <th>threat</th>\n",
       "    </tr>\n",
       "  </thead>\n",
       "  <tbody>\n",
       "    <tr>\n",
       "      <td>0</td>\n",
       "      <td>1</td>\n",
       "      <td>1</td>\n",
       "      <td>1</td>\n",
       "      <td>0</td>\n",
       "      <td>0</td>\n",
       "      <td>0</td>\n",
       "    </tr>\n",
       "    <tr>\n",
       "      <td>1</td>\n",
       "      <td>0</td>\n",
       "      <td>0</td>\n",
       "      <td>0</td>\n",
       "      <td>0</td>\n",
       "      <td>0</td>\n",
       "      <td>0</td>\n",
       "    </tr>\n",
       "    <tr>\n",
       "      <td>2</td>\n",
       "      <td>0</td>\n",
       "      <td>0</td>\n",
       "      <td>0</td>\n",
       "      <td>0</td>\n",
       "      <td>0</td>\n",
       "      <td>0</td>\n",
       "    </tr>\n",
       "    <tr>\n",
       "      <td>3</td>\n",
       "      <td>0</td>\n",
       "      <td>0</td>\n",
       "      <td>0</td>\n",
       "      <td>0</td>\n",
       "      <td>0</td>\n",
       "      <td>0</td>\n",
       "    </tr>\n",
       "    <tr>\n",
       "      <td>4</td>\n",
       "      <td>0</td>\n",
       "      <td>0</td>\n",
       "      <td>0</td>\n",
       "      <td>0</td>\n",
       "      <td>0</td>\n",
       "      <td>0</td>\n",
       "    </tr>\n",
       "    <tr>\n",
       "      <td>...</td>\n",
       "      <td>...</td>\n",
       "      <td>...</td>\n",
       "      <td>...</td>\n",
       "      <td>...</td>\n",
       "      <td>...</td>\n",
       "      <td>...</td>\n",
       "    </tr>\n",
       "    <tr>\n",
       "      <td>153159</td>\n",
       "      <td>0</td>\n",
       "      <td>0</td>\n",
       "      <td>1</td>\n",
       "      <td>0</td>\n",
       "      <td>0</td>\n",
       "      <td>0</td>\n",
       "    </tr>\n",
       "    <tr>\n",
       "      <td>153160</td>\n",
       "      <td>0</td>\n",
       "      <td>0</td>\n",
       "      <td>0</td>\n",
       "      <td>0</td>\n",
       "      <td>0</td>\n",
       "      <td>0</td>\n",
       "    </tr>\n",
       "    <tr>\n",
       "      <td>153161</td>\n",
       "      <td>0</td>\n",
       "      <td>0</td>\n",
       "      <td>0</td>\n",
       "      <td>0</td>\n",
       "      <td>0</td>\n",
       "      <td>0</td>\n",
       "    </tr>\n",
       "    <tr>\n",
       "      <td>153162</td>\n",
       "      <td>0</td>\n",
       "      <td>0</td>\n",
       "      <td>0</td>\n",
       "      <td>0</td>\n",
       "      <td>0</td>\n",
       "      <td>0</td>\n",
       "    </tr>\n",
       "    <tr>\n",
       "      <td>153163</td>\n",
       "      <td>1</td>\n",
       "      <td>0</td>\n",
       "      <td>1</td>\n",
       "      <td>0</td>\n",
       "      <td>0</td>\n",
       "      <td>0</td>\n",
       "    </tr>\n",
       "  </tbody>\n",
       "</table>\n",
       "<p>153164 rows × 6 columns</p>\n",
       "</div>"
      ],
      "text/plain": [
       "        obscene  insult  toxic  severe_toxic  identity_hate  threat\n",
       "0             1       1      1             0              0       0\n",
       "1             0       0      0             0              0       0\n",
       "2             0       0      0             0              0       0\n",
       "3             0       0      0             0              0       0\n",
       "4             0       0      0             0              0       0\n",
       "...         ...     ...    ...           ...            ...     ...\n",
       "153159        0       0      1             0              0       0\n",
       "153160        0       0      0             0              0       0\n",
       "153161        0       0      0             0              0       0\n",
       "153162        0       0      0             0              0       0\n",
       "153163        1       0      1             0              0       0\n",
       "\n",
       "[153164 rows x 6 columns]"
      ]
     },
     "execution_count": 104,
     "metadata": {},
     "output_type": "execute_result"
    }
   ],
   "source": [
    "# Dataframe com os resultados do primeiro modelo, com approach binário, e não multi rotular.\n",
    "dados_res = pd.DataFrame(resultados)\n",
    "dados_res"
   ]
  },
  {
   "cell_type": "markdown",
   "metadata": {},
   "source": [
    "# Visualizando os resultados a partir de uma Matriz Confusão"
   ]
  },
  {
   "cell_type": "markdown",
   "metadata": {},
   "source": [
    " A matriz confusão é um tipo de método/tabela de que nos permite uma melhor visualização dos resultados e, com isso o desempenho do modelo/algoritmo de classificação. Nesse tipo de tabela, existe 4 classificações importantes de serem pensadas que são os : Verdadeiro Negativo-*True Neg*-, Falso Positivo-*False Pos*-, Falso Negativo-*False Neg*- e Verdadeiro Positivo-*True Pos*-. A partir deles, nós podemos identificar a acurácia, os tipos de erro I e II e portanto a qualidade do modelo."
   ]
  },
  {
   "cell_type": "code",
   "execution_count": 118,
   "metadata": {},
   "outputs": [],
   "source": [
    "#Aqui é criado um dicionário para guardar obejto consusion_matriz de cada classe de comentário, já que o modelo teve um approach binário.\n",
    "cm = dict()\n",
    "for rotulo in rotulos:\n",
    "    cm[rotulo]=confusion_matrix(y_teste1[rotulo], resultados[rotulo])"
   ]
  },
  {
   "cell_type": "markdown",
   "metadata": {},
   "source": [
    "# Plotando as Matrizes Confusão para cada classe."
   ]
  },
  {
   "cell_type": "markdown",
   "metadata": {},
   "source": [
    "## Matriz confusão de Obscene"
   ]
  },
  {
   "cell_type": "code",
   "execution_count": 166,
   "metadata": {},
   "outputs": [
    {
     "data": {
      "image/png": "[encoded data removed]",
      "text/plain": [
       "<Figure size 432x288 with 2 Axes>"
      ]
     },
     "metadata": {
      "needs_background": "light"
     },
     "output_type": "display_data"
    }
   ],
   "source": [
    "labels = ['\\n \\n \\n \\n \\n True Neg','\\n \\n \\n \\n \\nFalse Pos','False Neg\\n \\n \\n \\n \\n','True Pos\\n \\n \\n \\n \\n']\n",
    "labels = np.asarray(labels).reshape(2,2)\n",
    "sns.heatmap(cm['obscene'], annot=labels, fmt='', cmap='Blues')\n",
    "plt.title(\"Matriz Confusão de Obscene \\n \")\n",
    "plt.show()"
   ]
  },
  {
   "cell_type": "markdown",
   "metadata": {},
   "source": [
    "## Matriz Confusão de Insult"
   ]
  },
  {
   "cell_type": "code",
   "execution_count": 167,
   "metadata": {},
   "outputs": [
    {
     "data": {
      "image/png": "[encoded data removed]",
      "text/plain": [
       "<Figure size 432x288 with 2 Axes>"
      ]
     },
     "metadata": {
      "needs_background": "light"
     },
     "output_type": "display_data"
    }
   ],
   "source": [
    "labels = ['\\n \\n \\n \\n \\n True Neg','\\n \\n \\n \\n \\nFalse Pos','False Neg\\n \\n \\n \\n \\n','True Pos\\n \\n \\n \\n \\n']\n",
    "labels = np.asarray(labels).reshape(2,2)\n",
    "sns.heatmap(cm['insult'], annot=labels, fmt='', cmap='Greens')\n",
    "plt.title(\"Matriz Confusão de Insult \\n \")\n",
    "plt.show()"
   ]
  },
  {
   "cell_type": "markdown",
   "metadata": {},
   "source": [
    "## Matriz Confusão de Toxic"
   ]
  },
  {
   "cell_type": "code",
   "execution_count": 168,
   "metadata": {},
   "outputs": [
    {
     "data": {
      "image/png": "[encoded data removed]",
      "text/plain": [
       "<Figure size 432x288 with 2 Axes>"
      ]
     },
     "metadata": {
      "needs_background": "light"
     },
     "output_type": "display_data"
    }
   ],
   "source": [
    "labels = ['\\n \\n \\n \\n \\n True Neg','\\n \\n \\n \\n \\nFalse Pos','False Neg\\n \\n \\n \\n \\n','True Pos\\n \\n \\n \\n \\n']\n",
    "labels = np.asarray(labels).reshape(2,2)\n",
    "sns.heatmap(cm['toxic'], annot=labels, fmt='', cmap='gist_earth')\n",
    "plt.title(\"Matriz Confusão de Toxic \\n \")\n",
    "plt.show()"
   ]
  },
  {
   "cell_type": "markdown",
   "metadata": {},
   "source": [
    "## Matriz Confusão de Severe Toxic"
   ]
  },
  {
   "cell_type": "code",
   "execution_count": 169,
   "metadata": {},
   "outputs": [
    {
     "data": {
      "image/png": "[encoded data removed]",
      "text/plain": [
       "<Figure size 432x288 with 2 Axes>"
      ]
     },
     "metadata": {
      "needs_background": "light"
     },
     "output_type": "display_data"
    }
   ],
   "source": [
    "labels = ['\\n \\n \\n \\n \\n True Neg','\\n \\n \\n \\n \\nFalse Pos','False Neg\\n \\n \\n \\n \\n','True Pos\\n \\n \\n \\n \\n']\n",
    "labels = np.asarray(labels).reshape(2,2)\n",
    "sns.heatmap(cm['severe_toxic'], annot=labels, fmt='', cmap='twilight')\n",
    "plt.title(\"Matriz Confusão de Severe Toxic\\n \")\n",
    "plt.show()"
   ]
  },
  {
   "cell_type": "markdown",
   "metadata": {},
   "source": [
    "## Matriz Confusão de Identity Hate"
   ]
  },
  {
   "cell_type": "code",
   "execution_count": 170,
   "metadata": {},
   "outputs": [
    {
     "data": {
      "image/png": "[encoded data removed]",
      "text/plain": [
       "<Figure size 432x288 with 2 Axes>"
      ]
     },
     "metadata": {
      "needs_background": "light"
     },
     "output_type": "display_data"
    }
   ],
   "source": [
    "labels = ['\\n \\n \\n \\n \\n True Neg','\\n \\n \\n \\n \\nFalse Pos','False Neg\\n \\n \\n \\n \\n','True Pos\\n \\n \\n \\n \\n']\n",
    "labels = np.asarray(labels).reshape(2,2)\n",
    "sns.heatmap(cm['identity_hate'], annot=labels, fmt='', cmap='gist_gray')\n",
    "plt.title(\"Matriz Confusão de Indentity Hate \\n \")\n",
    "plt.show()"
   ]
  },
  {
   "cell_type": "markdown",
   "metadata": {},
   "source": [
    "## Matriz Confusão de Threat"
   ]
  },
  {
   "cell_type": "code",
   "execution_count": 171,
   "metadata": {},
   "outputs": [
    {
     "data": {
      "image/png": "[encoded data removed]",
      "text/plain": [
       "<Figure size 432x288 with 2 Axes>"
      ]
     },
     "metadata": {
      "needs_background": "light"
     },
     "output_type": "display_data"
    }
   ],
   "source": [
    "labels = ['\\n \\n \\n \\n \\n True Neg','\\n \\n \\n \\n \\nFalse Pos','False Neg\\n \\n \\n \\n \\n','True Pos\\n \\n \\n \\n \\n']\n",
    "labels = np.asarray(labels).reshape(2,2)\n",
    "sns.heatmap(cm['threat'], annot=labels, fmt='', cmap='autumn')\n",
    "plt.title(\"Matriz Confusão de Threat \\n \")\n",
    "plt.show()"
   ]
  },
  {
   "cell_type": "markdown",
   "metadata": {},
   "source": [
    "# Tentativa de Tuning do Modelo a partir de RandomizedSearchCV"
   ]
  },
  {
   "cell_type": "markdown",
   "metadata": {},
   "source": [
    "Randomized Search é um método de melhoramento do modelo a partir de cross-validation e hiperparâmetros. Com ele podemos escolher o número de interações que usaremos, para assim podermos utilizar somente o poder computacional disponível.\n",
    "\n",
    "Aqui está um video que trás a explicação e implementação dele de modo pedagógico : https://www.youtube.com/watch?v=Gol_qOgRqfA"
   ]
  },
  {
   "cell_type": "code",
   "execution_count": 2,
   "metadata": {
    "hidden": true
   },
   "outputs": [],
   "source": [
    "# pra começar o Random Search, importamos a biblioteca:\n",
    "from sklearn.model_selection import RandomizedSearchCV"
   ]
  },
  {
   "cell_type": "code",
   "execution_count": 30,
   "metadata": {},
   "outputs": [],
   "source": [
    "# Criamos um dicionário cujas chave são as instâncias do nosso modelo e os valores são os diferentes possibilidade de parametro.\n",
    "# Criamos também uma obejto do tipo Regressão Logística\n",
    "C = list(np.arange(1,15,1))\n",
    "penalty = ['l1','l2']\n",
    "dual = ['False','True']\n",
    "fit_intercept = ['True','False']\n",
    "param_grid = dict(C = C,penalty=penalty,fit_intercept=fit_intercept)\n",
    "LG = LogisticRegression()"
   ]
  },
  {
   "cell_type": "code",
   "execution_count": 1,
   "metadata": {},
   "outputs": [
    {
     "ename": "NameError",
     "evalue": "name 'RandomizedSearchCV' is not defined",
     "output_type": "error",
     "traceback": [
      "\u001b[1;31m---------------------------------------------------------------------------\u001b[0m",
      "\u001b[1;31mNameError\u001b[0m                                 Traceback (most recent call last)",
      "\u001b[1;32m<ipython-input-1-5cf91d0a93b5>\u001b[0m in \u001b[0;36m<module>\u001b[1;34m\u001b[0m\n\u001b[1;32m----> 1\u001b[1;33m \u001b[0mrand\u001b[0m \u001b[1;33m=\u001b[0m \u001b[0mRandomizedSearchCV\u001b[0m\u001b[1;33m(\u001b[0m\u001b[0mLG\u001b[0m\u001b[1;33m,\u001b[0m \u001b[0mparam_grid\u001b[0m\u001b[1;33m,\u001b[0m \u001b[0mcv\u001b[0m\u001b[1;33m=\u001b[0m\u001b[1;36m10\u001b[0m\u001b[1;33m,\u001b[0m \u001b[0mscoring\u001b[0m\u001b[1;33m=\u001b[0m\u001b[1;34m'accuracy'\u001b[0m\u001b[1;33m,\u001b[0m \u001b[0mn_iter\u001b[0m\u001b[1;33m=\u001b[0m\u001b[1;36m1\u001b[0m\u001b[1;33m,\u001b[0m \u001b[0mrandom_state\u001b[0m\u001b[1;33m=\u001b[0m\u001b[1;36m5\u001b[0m\u001b[1;33m)\u001b[0m\u001b[1;33m\u001b[0m\u001b[1;33m\u001b[0m\u001b[0m\n\u001b[0m\u001b[0;32m      2\u001b[0m \u001b[0mrand_dict\u001b[0m \u001b[1;33m=\u001b[0m \u001b[0mdict\u001b[0m\u001b[1;33m(\u001b[0m\u001b[1;33m)\u001b[0m\u001b[1;33m\u001b[0m\u001b[1;33m\u001b[0m\u001b[0m\n",
      "\u001b[1;31mNameError\u001b[0m: name 'RandomizedSearchCV' is not defined"
     ]
    }
   ],
   "source": [
    "# Criamos o obejto de Randomized Search e um dicionário que guardará os objetos para cada classe.\n",
    "rand = RandomizedSearchCV(LG, param_grid, cv=10, scoring='accuracy', n_iter=1, random_state=5)\n",
    "rand_dict = dict()"
   ]
  },
  {
   "cell_type": "code",
   "execution_count": null,
   "metadata": {},
   "outputs": [
    {
     "name": "stderr",
     "output_type": "stream",
     "text": [
      "C:\\Users\\Jean Silas\\Anaconda3\\lib\\site-packages\\sklearn\\linear_model\\logistic.py:432: FutureWarning: Default solver will be changed to 'lbfgs' in 0.22. Specify a solver to silence this warning.\n",
      "  FutureWarning)\n",
      "C:\\Users\\Jean Silas\\Anaconda3\\lib\\site-packages\\sklearn\\svm\\base.py:929: ConvergenceWarning: Liblinear failed to converge, increase the number of iterations.\n",
      "  \"the number of iterations.\", ConvergenceWarning)\n"
     ]
    }
   ],
   "source": [
    "#Criamos um dicionario que as chaves são as classes e os valores são: o objeto de Rand, a acurácia e o f1_score\n",
    "for rotulo in rotulos:\n",
    "    r = rand.fit(x_treinocv,y_treino[rotulo])\n",
    "    rand_dict[rotulo] = [r,accuracy_score(y_teste[rotulo],rand.predict(x_testecv)),f1_score(y_teste[rotulo],rand.predict(x_testecv))"
   ]
  },
  {
   "cell_type": "code",
   "execution_count": null,
   "metadata": {},
   "outputs": [],
   "source": []
  }
 ],
 "metadata": {
  "kernelspec": {
   "display_name": "Python 3",
   "language": "python",
   "name": "python3"
  },
  "language_info": {
   "codemirror_mode": {
    "name": "ipython",
    "version": 3
   },
   "file_extension": ".py",
   "mimetype": "text/x-python",
   "name": "python",
   "nbconvert_exporter": "python",
   "pygments_lexer": "ipython3",
   "version": "3.7.4"
  },
  "latex_envs": {
   "LaTeX_envs_menu_present": true,
   "autoclose": false,
   "autocomplete": true,
   "bibliofile": "biblio.bib",
   "cite_by": "apalike",
   "current_citInitial": 1,
   "eqLabelWithNumbers": true,
   "eqNumInitial": 1,
   "hotkeys": {
    "equation": "Ctrl-E",
    "itemize": "Ctrl-I"
   },
   "labels_anchors": false,
   "latex_user_defs": false,
   "report_style_numbering": false,
   "user_envs_cfg": false
  },
  "varInspector": {
   "cols": {
    "lenName": 16,
    "lenType": 16,
    "lenVar": 40
   },
   "kernels_config": {
    "python": {
     "delete_cmd_postfix": "",
     "delete_cmd_prefix": "del ",
     "library": "var_list.py",
     "varRefreshCmd": "print(var_dic_list())"
    },
    "r": {
     "delete_cmd_postfix": ") ",
     "delete_cmd_prefix": "rm(",
     "library": "var_list.r",
     "varRefreshCmd": "cat(var_dic_list()) "
    }
   },
   "types_to_exclude": [
    "module",
    "function",
    "builtin_function_or_method",
    "instance",
    "_Feature"
   ],
   "window_display": false
  }
 },
 "nbformat": 4,
 "nbformat_minor": 4
}
